{
 "cells": [
  {
   "cell_type": "code",
   "execution_count": 1,
   "id": "88b8757dfe0e582e",
   "metadata": {
    "ExecuteTime": {
     "end_time": "2024-10-14T13:46:07.951771Z",
     "start_time": "2024-10-14T13:46:06.605282Z"
    }
   },
   "outputs": [],
   "source": [
    "import pandas as pd"
   ]
  },
  {
   "cell_type": "code",
   "execution_count": 2,
   "id": "4e238cb2a11aa25e",
   "metadata": {
    "ExecuteTime": {
     "end_time": "2024-10-14T13:46:46.687121Z",
     "start_time": "2024-10-14T13:46:46.681607Z"
    }
   },
   "outputs": [],
   "source": [
    "# Sample data for the Parquet file\n",
    "data = {\n",
    "    'AssetID': ['A001', 'A002', 'A003'],\n",
    "    'TagName': ['Temperature', 'Pressure', 'Humidity'],\n",
    "    'Value': [23.5, 50.8, 45.2],\n",
    "    'Timestamp': ['2024-10-14 10:00:00', '2024-10-14 11:00:00', '2024-10-14 12:00:00']\n",
    "}"
   ]
  },
  {
   "cell_type": "code",
   "execution_count": 3,
   "id": "737f68ef01ce7504",
   "metadata": {
    "ExecuteTime": {
     "end_time": "2024-10-14T13:46:54.583649Z",
     "start_time": "2024-10-14T13:46:54.573217Z"
    }
   },
   "outputs": [
    {
     "data": {
      "text/plain": [
       "dict"
      ]
     },
     "execution_count": 3,
     "metadata": {},
     "output_type": "execute_result"
    }
   ],
   "source": [
    "type(data)"
   ]
  },
  {
   "cell_type": "code",
   "execution_count": 4,
   "id": "aae0f6a27ba6ac23",
   "metadata": {
    "ExecuteTime": {
     "end_time": "2024-10-14T13:47:01.783102Z",
     "start_time": "2024-10-14T13:47:01.763886Z"
    }
   },
   "outputs": [],
   "source": [
    "# Create DataFrame\n",
    "df = pd.DataFrame(data)"
   ]
  },
  {
   "cell_type": "code",
   "execution_count": 5,
   "id": "b236f9ddf206343e",
   "metadata": {
    "ExecuteTime": {
     "end_time": "2024-10-14T13:47:10.208815Z",
     "start_time": "2024-10-14T13:47:09.403243Z"
    }
   },
   "outputs": [
    {
     "name": "stdout",
     "output_type": "stream",
     "text": [
      "Parquet file created successfully!\n"
     ]
    }
   ],
   "source": [
    "# Save DataFrame as a Parquet file\n",
    "df.to_parquet('sample_data.parquet', engine='pyarrow')\n",
    "\n",
    "print(\"Parquet file created successfully!\")"
   ]
  },
  {
   "cell_type": "code",
   "execution_count": 6,
   "id": "91e8e17b39ff13c6",
   "metadata": {
    "ExecuteTime": {
     "end_time": "2024-10-14T13:49:11.519484Z",
     "start_time": "2024-10-14T13:48:57.414047Z"
    }
   },
   "outputs": [
    {
     "data": {
      "text/html": [
       "<div>\n",
       "<style scoped>\n",
       "    .dataframe tbody tr th:only-of-type {\n",
       "        vertical-align: middle;\n",
       "    }\n",
       "\n",
       "    .dataframe tbody tr th {\n",
       "        vertical-align: top;\n",
       "    }\n",
       "\n",
       "    .dataframe thead th {\n",
       "        text-align: right;\n",
       "    }\n",
       "</style>\n",
       "<table border=\"1\" class=\"dataframe\">\n",
       "  <thead>\n",
       "    <tr style=\"text-align: right;\">\n",
       "      <th></th>\n",
       "      <th>AssetID</th>\n",
       "      <th>TagName</th>\n",
       "      <th>Value</th>\n",
       "      <th>Timestamp</th>\n",
       "    </tr>\n",
       "  </thead>\n",
       "  <tbody>\n",
       "    <tr>\n",
       "      <th>0</th>\n",
       "      <td>A001</td>\n",
       "      <td>Temperature</td>\n",
       "      <td>23.5</td>\n",
       "      <td>2024-10-14 10:00:00</td>\n",
       "    </tr>\n",
       "    <tr>\n",
       "      <th>1</th>\n",
       "      <td>A002</td>\n",
       "      <td>Pressure</td>\n",
       "      <td>50.8</td>\n",
       "      <td>2024-10-14 11:00:00</td>\n",
       "    </tr>\n",
       "    <tr>\n",
       "      <th>2</th>\n",
       "      <td>A003</td>\n",
       "      <td>Humidity</td>\n",
       "      <td>45.2</td>\n",
       "      <td>2024-10-14 12:00:00</td>\n",
       "    </tr>\n",
       "  </tbody>\n",
       "</table>\n",
       "</div>"
      ],
      "text/plain": [
       "  AssetID      TagName  Value            Timestamp\n",
       "0    A001  Temperature   23.5  2024-10-14 10:00:00\n",
       "1    A002     Pressure   50.8  2024-10-14 11:00:00\n",
       "2    A003     Humidity   45.2  2024-10-14 12:00:00"
      ]
     },
     "execution_count": 6,
     "metadata": {},
     "output_type": "execute_result"
    }
   ],
   "source": [
    "# Read the parquet files\n",
    "df_parquet = pd.read_parquet('sample_data.parquet', engine='pyarrow')\n",
    "df_parquet"
   ]
  },
  {
   "cell_type": "code",
   "execution_count": null,
   "id": "c63bfbcacc9aba80",
   "metadata": {},
   "outputs": [],
   "source": [
    "aws ssm send-command --document-name \"AWS-RunShellScript\" --instance-ids \"i-0a7aa679b6c66fb59\" --parameters commands=[\"sudo yum install -y python3 python3-pip && pip3 install boto3 pandas pyarrow\"] --region us-east-1\n"
   ]
  },
  {
   "cell_type": "code",
   "execution_count": null,
   "id": "0f9a9b65",
   "metadata": {},
   "outputs": [],
   "source": [
    "aws ssm send-command --document-name \"AWS-RunShellScript\" --instance-ids \"i-0a7aa679b6c66fb59\" --parameters commands=[\"sudo yum install -y python3 python3-pip && pip3 install boto3 pandas pyarrow python-dateutil\"] --region us-east-1"
   ]
  },
  {
   "cell_type": "code",
   "execution_count": null,
   "id": "fa8e0437",
   "metadata": {},
   "outputs": [],
   "source": [
    "pem = \"C:\\\\Users\\\\pranav\\\\Desktop\\\\AWS keys\\\\ssm_instance_pem.pem\"\n",
    "scp -i \"C:\\\\Users\\\\pranav\\\\Desktop\\\\AWS keys\\\\ssm_instance_pem.pem\" scripter.py ec2-user@<52.205.11.86>:/home/ec2-user/"
   ]
  },
  {
   "cell_type": "code",
   "execution_count": null,
   "id": "254841ef",
   "metadata": {},
   "outputs": [],
   "source": [
    "### CommandID problemfinder\n",
    "pipeline {\n",
    "    agent any\n",
    "\n",
    "    environment {\n",
    "        INSTANCE_ID = 'i-0a7aa679b6c66fb59'  // Your EC2 instance ID\n",
    "        S3_BUCKET = 'my-parquetfile-bucket'  // Your S3 bucket name\n",
    "        SCRIPT_PATH = 'pythonscripts/script.py'  // Path to the script in S3\n",
    "    }\n",
    "\n",
    "    stages {\n",
    "        stage('Upload Script to S3') {\n",
    "            steps {\n",
    "                withCredentials([[$class: 'AmazonWebServicesCredentialsBinding', credentialsId: 'AWS Jenkins credentials']]) {\n",
    "                    script {\n",
    "                        powershell \"\"\"\n",
    "                            aws s3 cp .\\\\script.py s3://${S3_BUCKET}/${SCRIPT_PATH}\n",
    "                        \"\"\"\n",
    "                    }\n",
    "                }\n",
    "            }\n",
    "        }\n",
    "\n",
    "        stage('Download Script from S3 to EC2') {\n",
    "            steps {\n",
    "                withCredentials([[$class: 'AmazonWebServicesCredentialsBinding', credentialsId: 'AWS Jenkins credentials']]) {\n",
    "                    script {\n",
    "                        echo \"Running SSM command to download script from S3 to EC2\"\n",
    "                        def downloadCommand = \"\"\"\n",
    "                            aws ssm send-command --document-name \"AWS-RunShellScript\" --instance-ids ${INSTANCE_ID} --parameters commands=[\"aws s3 cp s3://${S3_BUCKET}/${SCRIPT_PATH} /home/ec2-user/script.py\"] --region us-east-1\n",
    "                        \"\"\"\n",
    "                        def downloadResult = powershell(returnStdout: true, script: downloadCommand).trim()\n",
    "                        echo \"Download Command Result: ${downloadResult}\"\n",
    "\n",
    "                        // Check the status of the SSM command\n",
    "                        def commandId = downloadResult =~ /\"CommandId\":\\s*\"([^\"]+)\"/\n",
    "                        if (commandId) {\n",
    "                            commandId = commandId[0][1]\n",
    "                            echo \"Checking status of SSM command with CommandId: ${commandId}\"\n",
    "                            sleep(time: 30, unit: 'SECONDS')  // Wait for the command to complete\n",
    "                            def statusCommand = \"\"\"\n",
    "                                aws ssm list-command-invocations --command-id ${commandId} --details --region us-east-1\n",
    "                            \"\"\"\n",
    "                            def statusResult = powershell(returnStdout: true, script: statusCommand).trim()\n",
    "                            echo \"SSM Command Status: ${statusResult}\"\n",
    "                        } else {\n",
    "                            error \"Failed to retrieve CommandId from download command result\"\n",
    "                        }\n",
    "                    }\n",
    "                }\n",
    "            }\n",
    "        }\n",
    "\n",
    "        stage('Execute Script on EC2') {\n",
    "            steps {\n",
    "                withCredentials([[$class: 'AmazonWebServicesCredentialsBinding', credentialsId: 'AWS Jenkins credentials']]) {\n",
    "                    script {\n",
    "                        echo \"Running SSM command to execute Python script on EC2\"\n",
    "                        def executeCommand = \"\"\"\n",
    "                            aws ssm send-command --document-name \"AWS-RunShellScript\" --instance-ids ${INSTANCE_ID} --parameters commands=[\"python3 /home/ec2-user/script.py\"] --region us-east-1\n",
    "                        \"\"\"\n",
    "                        def executeResult = powershell(returnStdout: true, script: executeCommand).trim()\n",
    "                        echo \"Execution Command Result: ${executeResult}\"\n",
    "\n",
    "                        // Check the status of the SSM command\n",
    "                        def commandId = executeResult =~ /\"CommandId\":\\s*\"([^\"]+)\"/\n",
    "                        if (commandId) {\n",
    "                            commandId = commandId[0][1]\n",
    "                            echo \"Checking status of SSM command with CommandId: ${commandId}\"\n",
    "                            sleep(time: 30, unit: 'SECONDS')  // Wait for the command to complete\n",
    "                            def statusCommand = \"\"\"\n",
    "                                aws ssm list-command-invocations --command-id ${commandId} --details --region us-east-1\n",
    "                            \"\"\"\n",
    "                            def statusResult = powershell(returnStdout: true, script: statusCommand).trim()\n",
    "                            echo \"SSM Command Status: ${statusResult}\"\n",
    "                        } else {\n",
    "                            error \"Failed to retrieve CommandId from execute command result\"\n",
    "                        }\n",
    "                    }\n",
    "                }\n",
    "            }\n",
    "        }\n",
    "    }\n",
    "\n",
    "    post {\n",
    "        always {\n",
    "            echo 'Pipeline execution completed!'\n",
    "        }\n",
    "    }\n",
    "}"
   ]
  },
  {
   "cell_type": "markdown",
   "id": "65fc99c5",
   "metadata": {},
   "source": [
    "### Working and testing"
   ]
  },
  {
   "cell_type": "code",
   "execution_count": null,
   "id": "d4900cdc",
   "metadata": {},
   "outputs": [],
   "source": [
    "pipeline {\n",
    "    agent any\n",
    "\n",
    "    environment {\n",
    "        INSTANCE_ID = 'i-0a7aa679b6c66fb59'  // Your EC2 instance ID\n",
    "        S3_BUCKET = 'my-parquetfile-bucket'  // Your S3 bucket name\n",
    "        SCRIPT_PATH = 'pythonscripts/script.py'  // Path to the script in S3\n",
    "    }\n",
    "\n",
    "    stages {\n",
    "        stage('Upload Script to S3') {\n",
    "            steps {\n",
    "                withCredentials([[$class: 'AmazonWebServicesCredentialsBinding', credentialsId: 'AWS Jenkins credentials']]) {\n",
    "                    script {\n",
    "                        powershell \"\"\"\n",
    "                            aws s3 cp .\\\\script.py s3://${S3_BUCKET}/${SCRIPT_PATH}\n",
    "                        \"\"\"\n",
    "                    }\n",
    "                }\n",
    "            }\n",
    "        }\n",
    "\n",
    "        stage('Install AWS CLI and Dependencies on EC2') {\n",
    "            steps {\n",
    "                withCredentials([[$class: 'AmazonWebServicesCredentialsBinding', credentialsId: 'AWS Jenkins credentials']]) {\n",
    "                    script {\n",
    "                        echo \"Running SSM command to install AWS CLI and dependencies on EC2\"\n",
    "                        def installCommand = \"\"\"\n",
    "                            aws ssm send-command --document-name \"AWS-RunShellScript\" --instance-ids ${INSTANCE_ID} --parameters commands=[\"sudo yum install -y aws-cli python3-pip && python3 -m venv /home/ec2-user/myenv && source /home/ec2-user/myenv/bin/activate && pip install --upgrade awscli boto3 python-dateutil\"] --region us-east-1\n",
    "                        \"\"\"\n",
    "                        def installResult = powershell(returnStdout: true, script: installCommand).trim()\n",
    "                        echo \"Install Command Result: ${installResult}\"\n",
    "\n",
    "                        // Check the status of the SSM command\n",
    "                        def commandId = installResult =~ /\"CommandId\":\\s*\"([^\"]+)\"/\n",
    "                        if (commandId) {\n",
    "                            commandId = commandId[0][1]\n",
    "                            echo \"Checking status of SSM command with CommandId: ${commandId}\"\n",
    "                            sleep(time: 30, unit: 'SECONDS')  // Wait for the command to complete\n",
    "                            def statusCommand = \"\"\"\n",
    "                                aws ssm list-command-invocations --command-id ${commandId} --details --region us-east-1\n",
    "                            \"\"\"\n",
    "                            def statusResult = powershell(returnStdout: true, script: statusCommand).trim()\n",
    "                            echo \"SSM Command Status: ${statusResult}\"\n",
    "                        } else {\n",
    "                            error \"Failed to retrieve CommandId from install command result\"\n",
    "                        }\n",
    "                    }\n",
    "                }\n",
    "            }\n",
    "        }\n",
    "\n",
    "        stage('Verify AWS CLI Installation on EC2') {\n",
    "            steps {\n",
    "                withCredentials([[$class: 'AmazonWebServicesCredentialsBinding', credentialsId: 'AWS Jenkins credentials']]) {\n",
    "                    script {\n",
    "                        echo \"Running SSM command to verify AWS CLI installation on EC2\"\n",
    "                        def verifyCommand = \"\"\"\n",
    "                            aws ssm send-command --document-name \"AWS-RunShellScript\" --instance-ids ${INSTANCE_ID} --parameters commands=[\"source /home/ec2-user/myenv/bin/activate && aws --version\"] --region us-east-1\n",
    "                        \"\"\"\n",
    "                        def verifyResult = powershell(returnStdout: true, script: verifyCommand).trim()\n",
    "                        echo \"Verify Command Result: ${verifyResult}\"\n",
    "\n",
    "                        // Check the status of the SSM command\n",
    "                        def commandId = verifyResult =~ /\"CommandId\":\\s*\"([^\"]+)\"/\n",
    "                        if (commandId) {\n",
    "                            commandId = commandId[0][1]\n",
    "                            echo \"Checking status of SSM command with CommandId: ${commandId}\"\n",
    "                            sleep(time: 30, unit: 'SECONDS')  // Wait for the command to complete\n",
    "                            def statusCommand = \"\"\"\n",
    "                                aws ssm list-command-invocations --command-id ${commandId} --details --region us-east-1\n",
    "                            \"\"\"\n",
    "                            def statusResult = powershell(returnStdout: true, script: statusCommand).trim()\n",
    "                            echo \"SSM Command Status: ${statusResult}\"\n",
    "                        } else {\n",
    "                            error \"Failed to retrieve CommandId from verify command result\"\n",
    "                        }\n",
    "                    }\n",
    "                }\n",
    "            }\n",
    "        }\n",
    "\n",
    "        stage('Download Script from S3 to EC2') {\n",
    "            steps {\n",
    "                withCredentials([[$class: 'AmazonWebServicesCredentialsBinding', credentialsId: 'AWS Jenkins credentials']]) {\n",
    "                    script {\n",
    "                        echo \"Running SSM command to download script from S3 to EC2\"\n",
    "                        def downloadCommand = \"\"\"\n",
    "                            aws ssm send-command --document-name \"AWS-RunShellScript\" --instance-ids ${INSTANCE_ID} --parameters commands=[\"source /home/ec2-user/myenv/bin/activate && aws s3 cp s3://${S3_BUCKET}/${SCRIPT_PATH} /home/ec2-user/script.py\"] --region us-east-1\n",
    "                        \"\"\"\n",
    "                        def downloadResult = powershell(returnStdout: true, script: downloadCommand).trim()\n",
    "                        echo \"Download Command Result: ${downloadResult}\"\n",
    "\n",
    "                        // Check the status of the SSM command\n",
    "                        def commandId = downloadResult =~ /\"CommandId\":\\s*\"([^\"]+)\"/\n",
    "                        if (commandId) {\n",
    "                            commandId = commandId[0][1]\n",
    "                            echo \"Checking status of SSM command with CommandId: ${commandId}\"\n",
    "                            sleep(time: 30, unit: 'SECONDS')  // Wait for the command to complete\n",
    "                            def statusCommand = \"\"\"\n",
    "                                aws ssm list-command-invocations --command-id ${commandId} --details --region us-east-1\n",
    "                            \"\"\"\n",
    "                            def statusResult = powershell(returnStdout: true, script: statusCommand).trim()\n",
    "                            echo \"SSM Command Status: ${statusResult}\"\n",
    "                        } else {\n",
    "                            error \"Failed to retrieve CommandId from download command result\"\n",
    "                        }\n",
    "                    }\n",
    "                }\n",
    "            }\n",
    "        }\n",
    "\n",
    "        stage('Execute Script on EC2') {\n",
    "            steps {\n",
    "                withCredentials([[$class: 'AmazonWebServicesCredentialsBinding', credentialsId: 'AWS Jenkins credentials']]) {\n",
    "                    script {\n",
    "                        echo \"Running SSM command to execute Python script on EC2\"\n",
    "                        def executeCommand = \"\"\"\n",
    "                            aws ssm send-command --document-name \"AWS-RunShellScript\" --instance-ids ${INSTANCE_ID} --parameters commands=[\"source /home/ec2-user/myenv/bin/activate && python3 /home/ec2-user/script.py\"] --region us-east-1\n",
    "                        \"\"\"\n",
    "                        def executeResult = powershell(returnStdout: true, script: executeCommand).trim()\n",
    "                        echo \"Execution Command Result: ${executeResult}\"\n",
    "\n",
    "                        // Check the status of the SSM command\n",
    "                        def commandId = executeResult =~ /\"CommandId\":\\s*\"([^\"]+)\"/\n",
    "                        if (commandId) {\n",
    "                            commandId = commandId[0][1]\n",
    "                            echo \"Checking status of SSM command with CommandId: ${commandId}\"\n",
    "                            sleep(time: 30, unit: 'SECONDS')  // Wait for the command to complete\n",
    "                            def statusCommand = \"\"\"\n",
    "                                aws ssm list-command-invocations --command-id ${commandId} --details --region us-east-1\n",
    "                            \"\"\"\n",
    "                            def statusResult = powershell(returnStdout: true, script: statusCommand).trim()\n",
    "                            echo \"SSM Command Status: ${statusResult}\"\n",
    "                        } else {\n",
    "                            error \"Failed to retrieve CommandId from execute command result\"\n",
    "                        }\n",
    "                    }\n",
    "                }\n",
    "            }\n",
    "        }\n",
    "    }\n",
    "\n",
    "    post {\n",
    "        always {\n",
    "            echo 'Pipeline execution completed!'\n",
    "        }\n",
    "    }\n",
    "}"
   ]
  }
 ],
 "metadata": {
  "kernelspec": {
   "display_name": "Python 3",
   "language": "python",
   "name": "python3"
  },
  "language_info": {
   "codemirror_mode": {
    "name": "ipython",
    "version": 2
   },
   "file_extension": ".py",
   "mimetype": "text/x-python",
   "name": "python",
   "nbconvert_exporter": "python",
   "pygments_lexer": "ipython2",
   "version": "2.7.6"
  }
 },
 "nbformat": 4,
 "nbformat_minor": 5
}
