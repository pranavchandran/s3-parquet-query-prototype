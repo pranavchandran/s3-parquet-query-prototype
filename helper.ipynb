{
 "cells": [
  {
   "metadata": {
    "ExecuteTime": {
     "end_time": "2024-10-14T13:46:07.951771Z",
     "start_time": "2024-10-14T13:46:06.605282Z"
    }
   },
   "cell_type": "code",
   "source": "import pandas as pd",
   "id": "88b8757dfe0e582e",
   "outputs": [],
   "execution_count": 1
  },
  {
   "metadata": {
    "ExecuteTime": {
     "end_time": "2024-10-14T13:46:46.687121Z",
     "start_time": "2024-10-14T13:46:46.681607Z"
    }
   },
   "cell_type": "code",
   "source": [
    "# Sample data for the Parquet file\n",
    "data = {\n",
    "    'AssetID': ['A001', 'A002', 'A003'],\n",
    "    'TagName': ['Temperature', 'Pressure', 'Humidity'],\n",
    "    'Value': [23.5, 50.8, 45.2],\n",
    "    'Timestamp': ['2024-10-14 10:00:00', '2024-10-14 11:00:00', '2024-10-14 12:00:00']\n",
    "}"
   ],
   "id": "4e238cb2a11aa25e",
   "outputs": [],
   "execution_count": 2
  },
  {
   "metadata": {
    "ExecuteTime": {
     "end_time": "2024-10-14T13:46:54.583649Z",
     "start_time": "2024-10-14T13:46:54.573217Z"
    }
   },
   "cell_type": "code",
   "source": "type(data)",
   "id": "737f68ef01ce7504",
   "outputs": [
    {
     "data": {
      "text/plain": [
       "dict"
      ]
     },
     "execution_count": 3,
     "metadata": {},
     "output_type": "execute_result"
    }
   ],
   "execution_count": 3
  },
  {
   "metadata": {
    "ExecuteTime": {
     "end_time": "2024-10-14T13:47:01.783102Z",
     "start_time": "2024-10-14T13:47:01.763886Z"
    }
   },
   "cell_type": "code",
   "source": [
    "# Create DataFrame\n",
    "df = pd.DataFrame(data)"
   ],
   "id": "aae0f6a27ba6ac23",
   "outputs": [],
   "execution_count": 4
  },
  {
   "metadata": {
    "ExecuteTime": {
     "end_time": "2024-10-14T13:47:10.208815Z",
     "start_time": "2024-10-14T13:47:09.403243Z"
    }
   },
   "cell_type": "code",
   "source": [
    "# Save DataFrame as a Parquet file\n",
    "df.to_parquet('sample_data.parquet', engine='pyarrow')\n",
    "\n",
    "print(\"Parquet file created successfully!\")"
   ],
   "id": "b236f9ddf206343e",
   "outputs": [
    {
     "name": "stdout",
     "output_type": "stream",
     "text": [
      "Parquet file created successfully!\n"
     ]
    }
   ],
   "execution_count": 5
  },
  {
   "metadata": {
    "ExecuteTime": {
     "end_time": "2024-10-14T13:49:11.519484Z",
     "start_time": "2024-10-14T13:48:57.414047Z"
    }
   },
   "cell_type": "code",
   "source": [
    "# Read the parquet files\n",
    "df_parquet = pd.read_parquet('sample_data.parquet', engine='pyarrow')\n",
    "df_parquet"
   ],
   "id": "91e8e17b39ff13c6",
   "outputs": [
    {
     "data": {
      "text/plain": [
       "  AssetID      TagName  Value            Timestamp\n",
       "0    A001  Temperature   23.5  2024-10-14 10:00:00\n",
       "1    A002     Pressure   50.8  2024-10-14 11:00:00\n",
       "2    A003     Humidity   45.2  2024-10-14 12:00:00"
      ],
      "text/html": [
       "<div>\n",
       "<style scoped>\n",
       "    .dataframe tbody tr th:only-of-type {\n",
       "        vertical-align: middle;\n",
       "    }\n",
       "\n",
       "    .dataframe tbody tr th {\n",
       "        vertical-align: top;\n",
       "    }\n",
       "\n",
       "    .dataframe thead th {\n",
       "        text-align: right;\n",
       "    }\n",
       "</style>\n",
       "<table border=\"1\" class=\"dataframe\">\n",
       "  <thead>\n",
       "    <tr style=\"text-align: right;\">\n",
       "      <th></th>\n",
       "      <th>AssetID</th>\n",
       "      <th>TagName</th>\n",
       "      <th>Value</th>\n",
       "      <th>Timestamp</th>\n",
       "    </tr>\n",
       "  </thead>\n",
       "  <tbody>\n",
       "    <tr>\n",
       "      <th>0</th>\n",
       "      <td>A001</td>\n",
       "      <td>Temperature</td>\n",
       "      <td>23.5</td>\n",
       "      <td>2024-10-14 10:00:00</td>\n",
       "    </tr>\n",
       "    <tr>\n",
       "      <th>1</th>\n",
       "      <td>A002</td>\n",
       "      <td>Pressure</td>\n",
       "      <td>50.8</td>\n",
       "      <td>2024-10-14 11:00:00</td>\n",
       "    </tr>\n",
       "    <tr>\n",
       "      <th>2</th>\n",
       "      <td>A003</td>\n",
       "      <td>Humidity</td>\n",
       "      <td>45.2</td>\n",
       "      <td>2024-10-14 12:00:00</td>\n",
       "    </tr>\n",
       "  </tbody>\n",
       "</table>\n",
       "</div>"
      ]
     },
     "execution_count": 6,
     "metadata": {},
     "output_type": "execute_result"
    }
   ],
   "execution_count": 6
  },
  {
   "metadata": {},
   "cell_type": "code",
   "outputs": [],
   "execution_count": null,
   "source": "",
   "id": "c63bfbcacc9aba80"
  }
 ],
 "metadata": {
  "kernelspec": {
   "display_name": "Python 3",
   "language": "python",
   "name": "python3"
  },
  "language_info": {
   "codemirror_mode": {
    "name": "ipython",
    "version": 2
   },
   "file_extension": ".py",
   "mimetype": "text/x-python",
   "name": "python",
   "nbconvert_exporter": "python",
   "pygments_lexer": "ipython2",
   "version": "2.7.6"
  }
 },
 "nbformat": 4,
 "nbformat_minor": 5
}
